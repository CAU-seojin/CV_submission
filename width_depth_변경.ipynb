{
 "cells": [
  {
   "cell_type": "code",
   "execution_count": 35,
   "id": "f61316cb-afb8-4369-9be1-883a47bd8fc8",
   "metadata": {},
   "outputs": [
    {
     "name": "stdout",
     "output_type": "stream",
     "text": [
      "▶ 수정된 모델 파라미터 수: 3.71M\n",
      "▶ 수정된 모델 정의를 '12/yolo12_n_custom.yaml' 에 저장했습니다.\n"
     ]
    }
   ],
   "source": [
    "import yaml\n",
    "import torch\n",
    "from ultralytics.nn.tasks import parse_model, DetectionModel\n",
    "\n",
    "# --- 1) 설정할 값들 ----------------------------------------\n",
    "yaml_path = '12/yolo12.yaml'     # 원본 모델 YAML\n",
    "scale_key = 'n'                  # 사용할 스케일 키 (n, s, m, l, x)\n",
    "new_depth = 0.50                 # depth_multiple 또는 scales[scale_key][0]\n",
    "new_width = 0.25                 # width_multiple 또는 scales[scale_key][1]\n",
    "# ---------------------------------------------------------\n",
    "\n",
    "# 2) YAML 불러오기\n",
    "with open(yaml_path, 'r', encoding='utf-8') as f:\n",
    "    d = yaml.safe_load(f)\n",
    "\n",
    "# 3) depth/width 수정\n",
    "if 'scales' in d and scale_key in d['scales']:\n",
    "    d['scales'][scale_key][0] = new_depth\n",
    "    d['scales'][scale_key][1] = new_width\n",
    "    d['scale'] = scale_key  # 실제 사용할 스케일 지정\n",
    "else:\n",
    "    d['depth_multiple'] = new_depth\n",
    "    d['width_multiple'] = new_width\n",
    "\n",
    "# 4) 모델 파싱 & 파라미터 수 세기\n",
    "try:\n",
    "    model_seq, _ = parse_model(d, ch=3, verbose=False)\n",
    "except Exception:\n",
    "    model_obj = DetectionModel(d, ch=3, nc=d.get('nc', 1), verbose=False)\n",
    "    model_seq = model_obj.model\n",
    "\n",
    "n_params = sum(p.numel() for p in model_seq.parameters() if p.requires_grad)\n",
    "print(f\"▶ 수정된 모델 파라미터 수: {n_params/1e6:.2f}M\")\n",
    "\n",
    "# 5) 수정된 YAML 파일로 저장\n",
    "out_yaml = '12/yolo12_n_custom.yaml'\n",
    "with open(out_yaml, 'w', encoding='utf-8') as f:\n",
    "    yaml.dump(d, f, sort_keys=False)\n",
    "\n",
    "print(f\"▶ 수정된 모델 정의를 '{out_yaml}' 에 저장했습니다.\")"
   ]
  }
 ],
 "metadata": {
  "kernelspec": {
   "display_name": "cv",
   "language": "python",
   "name": "cv"
  },
  "language_info": {
   "codemirror_mode": {
    "name": "ipython",
    "version": 3
   },
   "file_extension": ".py",
   "mimetype": "text/x-python",
   "name": "python",
   "nbconvert_exporter": "python",
   "pygments_lexer": "ipython3",
   "version": "3.10.16"
  }
 },
 "nbformat": 4,
 "nbformat_minor": 5
}
